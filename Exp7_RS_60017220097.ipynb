{
  "cells": [
    {
      "cell_type": "code",
      "execution_count": null,
      "metadata": {
        "colab": {
          "base_uri": "https://localhost:8080/"
        },
        "id": "4xDzHQEoWpVm",
        "outputId": "fa3ee4d0-8bb6-43d2-c00e-afd2ab1628d4"
      },
      "outputs": [
        {
          "name": "stdout",
          "output_type": "stream",
          "text": [
            "Mean Absolute Error: 0.5\n"
          ]
        }
      ],
      "source": [
        "def mean_absolute_error(actual_ratings, predicted_ratings):\n",
        "    if len(actual_ratings) != len(predicted_ratings):\n",
        "        raise ValueError(\"The length of actual_ratings and predicted_ratings must be the same.\")\n",
        "\n",
        "    n = len(actual_ratings)\n",
        "    total_error = 0\n",
        "\n",
        "    for i in range(n):\n",
        "        total_error += abs(actual_ratings[i] - predicted_ratings[i])\n",
        "\n",
        "    mae = total_error / n\n",
        "    return mae\n",
        "\n",
        "actual_ratings = [3.5, 4.0, 2.0, 5.0, 3.0]\n",
        "predicted_ratings = [3.0, 4.5, 1.5, 4.5, 2.5]\n",
        "\n",
        "mae = mean_absolute_error(actual_ratings, predicted_ratings)\n",
        "print(f\"Mean Absolute Error: {mae}\")"
      ]
    },
    {
      "cell_type": "code",
      "execution_count": null,
      "metadata": {
        "colab": {
          "base_uri": "https://localhost:8080/"
        },
        "id": "G4KkuPtTXCbf",
        "outputId": "f9609776-06b4-4e83-b3ff-7561f45acf69"
      },
      "outputs": [
        {
          "name": "stdout",
          "output_type": "stream",
          "text": [
            "Root Mean Square Error: 0.5\n"
          ]
        }
      ],
      "source": [
        "import math\n",
        "\n",
        "def root_mean_square_error(actual_ratings, predicted_ratings):\n",
        "    if len(actual_ratings) != len(predicted_ratings):\n",
        "        raise ValueError(\"The length of actual_ratings and predicted_ratings must be the same.\")\n",
        "\n",
        "    n = len(actual_ratings)\n",
        "    total_error = 0\n",
        "\n",
        "    for i in range(n):\n",
        "        total_error += (actual_ratings[i] - predicted_ratings[i]) ** 2\n",
        "\n",
        "    rmse = math.sqrt(total_error / n)\n",
        "    return rmse\n",
        "\n",
        "actual_ratings = [3.5, 4.0, 2.0, 5.0, 3.0]\n",
        "predicted_ratings = [3.0, 4.5, 1.5, 4.5, 2.5]\n",
        "\n",
        "rmse = root_mean_square_error(actual_ratings, predicted_ratings)\n",
        "print(f\"Root Mean Square Error: {rmse}\")\n"
      ]
    },
    {
      "cell_type": "code",
      "execution_count": null,
      "metadata": {
        "colab": {
          "base_uri": "https://localhost:8080/"
        },
        "id": "EXuLHWW0XJPm",
        "outputId": "329539fe-c720-47d7-db6d-22e8a1708625"
      },
      "outputs": [
        {
          "name": "stdout",
          "output_type": "stream",
          "text": [
            "Precision: 0.60\n"
          ]
        }
      ],
      "source": [
        "def precision(recommended_items, relevant_items):\n",
        "    true_positive = len(set(recommended_items).intersection(set(relevant_items)))\n",
        "\n",
        "    total_recommended_items = len(recommended_items)\n",
        "\n",
        "    precision_value = true_positive / total_recommended_items if total_recommended_items > 0 else 0\n",
        "    return precision_value\n",
        "\n",
        "recommended_items = [1, 3, 5, 7, 9]\n",
        "relevant_items = [2, 3, 5, 7, 11, 15, 20]\n",
        "\n",
        "precision_value = precision(recommended_items, relevant_items)\n",
        "print(f\"Precision: {precision_value:.2f}\")\n"
      ]
    },
    {
      "cell_type": "code",
      "execution_count": null,
      "metadata": {
        "colab": {
          "base_uri": "https://localhost:8080/"
        },
        "id": "8ltWpeNIXTuk",
        "outputId": "cc06509d-093c-4906-a111-b25ae1e537bc"
      },
      "outputs": [
        {
          "name": "stdout",
          "output_type": "stream",
          "text": [
            "Recall: 0.43\n"
          ]
        }
      ],
      "source": [
        "def recall(recommended_items, relevant_items):\n",
        "    true_positive = len(set(recommended_items).intersection(set(relevant_items)))\n",
        "\n",
        "    total_relevant_items = len(relevant_items)\n",
        "\n",
        "    recall_value = true_positive / total_relevant_items if total_relevant_items > 0 else 0\n",
        "    return recall_value\n",
        "\n",
        "recommended_items = [1, 3, 5, 7, 9]\n",
        "relevant_items = [2, 3, 5, 7, 11, 15, 20]\n",
        "\n",
        "recall_value = recall(recommended_items, relevant_items)\n",
        "print(f\"Recall: {recall_value:.2f}\")\n"
      ]
    },
    {
      "cell_type": "code",
      "execution_count": null,
      "metadata": {
        "colab": {
          "base_uri": "https://localhost:8080/"
        },
        "id": "tzh2Y1S5XWer",
        "outputId": "ae9d83a6-b4a7-4beb-f3a2-eb916e75a675"
      },
      "outputs": [
        {
          "name": "stdout",
          "output_type": "stream",
          "text": [
            "Mean Reciprocal Rank: 0.39\n"
          ]
        }
      ],
      "source": [
        "def mean_reciprocal_rank(recommended_items_list, relevant_items_list):\n",
        "    if len(recommended_items_list) != len(relevant_items_list):\n",
        "        raise ValueError(\"The length of recommended_items_list and relevant_items_list must be the same.\")\n",
        "\n",
        "    reciprocal_ranks = []\n",
        "\n",
        "    for recommended_items, relevant_items in zip(recommended_items_list, relevant_items_list):\n",
        "        for rank, item in enumerate(recommended_items, start=1):\n",
        "            if item in relevant_items:\n",
        "                reciprocal_ranks.append(1 / rank)\n",
        "                break\n",
        "        else:\n",
        "            reciprocal_ranks.append(0)\n",
        "\n",
        "    mrr = sum(reciprocal_ranks) / len(reciprocal_ranks)\n",
        "    return mrr\n",
        "\n",
        "recommended_items_list = [\n",
        "    [1, 3, 5, 7, 9],\n",
        "    [2, 4, 6, 8],\n",
        "    [11, 12, 13, 14, 15, 16, 17]\n",
        "]\n",
        "\n",
        "relevant_items_list = [\n",
        "    [2, 3, 5, 7, 11],\n",
        "    [1, 4, 6, 8, 9],\n",
        "    [16, 17, 18, 19, 20]\n",
        "]\n",
        "\n",
        "mrr = mean_reciprocal_rank(recommended_items_list, relevant_items_list)\n",
        "print(f\"Mean Reciprocal Rank: {mrr:.2f}\")\n"
      ]
    },
    {
      "cell_type": "code",
      "execution_count": null,
      "metadata": {
        "colab": {
          "base_uri": "https://localhost:8080/"
        },
        "id": "Ire5zsnTXhcP",
        "outputId": "6200fb75-e39c-4340-aec4-cb299b1bc718"
      },
      "outputs": [
        {
          "name": "stdout",
          "output_type": "stream",
          "text": [
            "Mean Average Precision: 0.29\n"
          ]
        }
      ],
      "source": [
        "def average_precision(recommended_items, relevant_items):\n",
        "    true_positives = 0\n",
        "    sum_precisions = 0\n",
        "\n",
        "    for rank, item in enumerate(recommended_items, start=1):\n",
        "        if item in relevant_items:\n",
        "            true_positives += 1\n",
        "            precision_at_rank = true_positives / rank\n",
        "            sum_precisions += precision_at_rank\n",
        "\n",
        "    return sum_precisions / len(relevant_items) if len(relevant_items) > 0 else 0\n",
        "\n",
        "\n",
        "def mean_average_precision(recommended_items_list, relevant_items_list):\n",
        "    if len(recommended_items_list) != len(relevant_items_list):\n",
        "        raise ValueError(\"The length of recommended_items_list and relevant_items_list must be the same.\")\n",
        "\n",
        "    average_precisions = []\n",
        "\n",
        "    for recommended_items, relevant_items in zip(recommended_items_list, relevant_items_list):\n",
        "        ap = average_precision(recommended_items, relevant_items)\n",
        "        average_precisions.append(ap)\n",
        "\n",
        "    map_value = sum(average_precisions) / len(average_precisions)\n",
        "    return round(map_value, 2)\n",
        "\n",
        "recommended_items_list = [\n",
        "    [1, 3, 5, 7, 9],\n",
        "    [2, 4, 6, 8],\n",
        "    [11, 12, 13, 14, 15, 16, 17]\n",
        "]\n",
        "\n",
        "relevant_items_list = [\n",
        "    [2, 3, 5, 7, 11],\n",
        "    [1, 4, 6, 8, 9],\n",
        "    [16, 17, 18, 19, 20]\n",
        "]\n",
        "\n",
        "map_value = mean_average_precision(recommended_items_list, relevant_items_list)\n",
        "print(f\"Mean Average Precision: {map_value}\")"
      ]
    },
    {
      "cell_type": "code",
      "execution_count": null,
      "metadata": {
        "colab": {
          "base_uri": "https://localhost:8080/"
        },
        "id": "aowHtsgcYgFv",
        "outputId": "074ee5b9-05ce-4756-fdac-b0f174b638f7"
      },
      "outputs": [
        {
          "name": "stdout",
          "output_type": "stream",
          "text": [
            "Normalized Discounted Cumulative Gain (nDCG) values: [0.53, 0.53, 0.23]\n"
          ]
        }
      ],
      "source": [
        "import math\n",
        "def discounted_cumulative_gain(recommended_items, relevant_items):\n",
        "    dcg = 0\n",
        "    for i, item in enumerate(recommended_items, start=1):\n",
        "        if item in relevant_items:\n",
        "            dcg += 1 / (math.log2(i + 1))\n",
        "    return dcg\n",
        "\n",
        "def ideal_discounted_cumulative_gain(recommended_items, relevant_items):\n",
        "    sorted_relevant_items = sorted(relevant_items, key=lambda x: recommended_items.index(x) if x in recommended_items else float('inf'))\n",
        "    return discounted_cumulative_gain(sorted_relevant_items, relevant_items)\n",
        "\n",
        "def normalized_discounted_cumulative_gain(recommended_items, relevant_items):\n",
        "    dcg = discounted_cumulative_gain(recommended_items, relevant_items)\n",
        "    idcg = ideal_discounted_cumulative_gain(recommended_items, relevant_items)\n",
        "\n",
        "    if idcg == 0:\n",
        "        return 0\n",
        "    else:\n",
        "        return round(dcg / idcg, 2)\n",
        "\n",
        "recommended_items_list = [\n",
        "    [1, 3, 5, 7, 9],\n",
        "    [2, 4, 6, 8],\n",
        "    [11, 12, 13, 14, 15, 16, 17]\n",
        "]\n",
        "\n",
        "relevant_items_list = [\n",
        "    [2, 3, 5, 7, 11],\n",
        "    [1, 4, 6, 8, 9],\n",
        "    [16, 17, 18, 19, 20]\n",
        "]\n",
        "\n",
        "ndcg_values = [normalized_discounted_cumulative_gain(recommended, relevant)\n",
        "               for recommended, relevant in zip(recommended_items_list, relevant_items_list)]\n",
        "\n",
        "print(f\"Normalized Discounted Cumulative Gain (nDCG) values: {ndcg_values}\")\n"
      ]
    },
    {
      "cell_type": "code",
      "execution_count": null,
      "metadata": {
        "colab": {
          "base_uri": "https://localhost:8080/"
        },
        "id": "jkCYE-0kZL98",
        "outputId": "4deadddb-4e53-4521-9287-2e3e9aa7ed81"
      },
      "outputs": [
        {
          "name": "stdout",
          "output_type": "stream",
          "text": [
            "Catalog Coverage: 0.8\n"
          ]
        }
      ],
      "source": [
        "def catalog_coverage(recommended_items_list, catalog_items):\n",
        "    unique_recommended_items = set(item for sublist in recommended_items_list for item in sublist)\n",
        "\n",
        "    covered_items = unique_recommended_items.intersection(catalog_items)\n",
        "\n",
        "    coverage = len(covered_items) / len(catalog_items)\n",
        "    return coverage\n",
        "\n",
        "recommended_items_list = [\n",
        "    [1, 3, 5, 7, 9],\n",
        "    [2, 4, 6, 8],\n",
        "    [11, 12, 13, 14, 15, 16, 17]\n",
        "]\n",
        "\n",
        "catalog_items = set(range(1, 21))\n",
        "\n",
        "coverage = catalog_coverage(recommended_items_list, catalog_items)\n",
        "print(f\"Catalog Coverage: {coverage}\")"
      ]
    },
    {
      "cell_type": "code",
      "execution_count": null,
      "metadata": {
        "colab": {
          "base_uri": "https://localhost:8080/"
        },
        "id": "2ct1tdaEZk7e",
        "outputId": "0b3b6468-77d7-4f17-f34a-30af22078b45"
      },
      "outputs": [
        {
          "name": "stdout",
          "output_type": "stream",
          "text": [
            "Prediction Coverage: 0.27\n"
          ]
        }
      ],
      "source": [
        "def prediction_coverage(predicted_ratings, total_users, total_items):\n",
        "    predicted_pairs = sum(len(ratings) for ratings in predicted_ratings)\n",
        "\n",
        "    total_possible_pairs = total_users * total_items\n",
        "\n",
        "    coverage = predicted_pairs / total_possible_pairs\n",
        "    return coverage\n",
        "\n",
        "predicted_ratings = [\n",
        "    {1: 3.5, 3: 4.0, 5: 2.5, 7: 3.0, 9: 4.5},\n",
        "    {2: 4.5, 4: 3.0, 6: 2.0, 8: 3.5},\n",
        "    {11: 3.5, 12: 4.0, 13: 2.5, 14: 3.0, 15: 4.5, 16: 3.5, 17: 2.0}\n",
        "]\n",
        "\n",
        "total_users = 3\n",
        "total_items = 20\n",
        "\n",
        "coverage = prediction_coverage(predicted_ratings, total_users, total_items)\n",
        "print(f\"Prediction Coverage: {coverage:.2f}\")\n"
      ]
    },
    {
      "cell_type": "code",
      "execution_count": null,
      "metadata": {
        "colab": {
          "base_uri": "https://localhost:8080/"
        },
        "id": "ocUpDBDbZrAs",
        "outputId": "eed327c2-2b67-41c1-e991-c70c109d102b"
      },
      "outputs": [
        {
          "name": "stdout",
          "output_type": "stream",
          "text": [
            "Diversity: 0.31\n"
          ]
        }
      ],
      "source": [
        "import numpy as np\n",
        "from sklearn.metrics.pairwise import cosine_similarity\n",
        "\n",
        "def diversity(recommended_items_list, item_features):\n",
        "    total_similarity = 0\n",
        "    total_pairs = 0\n",
        "\n",
        "    for recommended_items in recommended_items_list:\n",
        "        similarities = cosine_similarity([item_features[item] for item in recommended_items])\n",
        "        total_similarity += np.sum(similarities) - np.trace(similarities)\n",
        "        total_pairs += len(recommended_items) * (len(recommended_items) - 1)\n",
        "\n",
        "    avg_similarity = total_similarity / total_pairs if total_pairs > 0 else 0\n",
        "    diversity = 1 - avg_similarity\n",
        "    return diversity\n",
        "\n",
        "recommended_items_list = [\n",
        "    [1, 3, 5, 7, 9],\n",
        "    [2, 4, 6, 8],\n",
        "    [11, 12, 13, 14, 15, 16, 17]\n",
        "]\n",
        "\n",
        "item_features = {item: np.random.rand(5) for item in range(1, 21)}\n",
        "\n",
        "diversity_value = diversity(recommended_items_list, item_features)\n",
        "print(f\"Diversity: {diversity_value:.2f}\")\n"
      ]
    },
    {
      "cell_type": "code",
      "execution_count": null,
      "metadata": {
        "colab": {
          "base_uri": "https://localhost:8080/"
        },
        "id": "vVQqTo45Z7uD",
        "outputId": "78119343-f4f7-4137-9a08-bffd46b6d422"
      },
      "outputs": [
        {
          "name": "stdout",
          "output_type": "stream",
          "text": [
            "Serendipity: 0.20\n"
          ]
        }
      ],
      "source": [
        "def serendipity(recommended_items_list, relevant_items_list, popular_items, k=10):\n",
        "    serendipity_score = 0\n",
        "    total_users = len(recommended_items_list)\n",
        "\n",
        "    for recommended_items, relevant_items in zip(recommended_items_list, relevant_items_list):\n",
        "        top_k_recommended = recommended_items[:k]\n",
        "\n",
        "        serendipitous_items = set(relevant_items) - set(popular_items)\n",
        "\n",
        "        serendipitous_recommendations = len(set(top_k_recommended) & serendipitous_items)\n",
        "\n",
        "        serendipity_score += serendipitous_recommendations / k\n",
        "\n",
        "    avg_serendipity = serendipity_score / total_users\n",
        "    return avg_serendipity\n",
        "\n",
        "recommended_items_list = [\n",
        "    [1, 3, 5, 7, 9, 2, 4, 6, 8, 11],\n",
        "    [2, 4, 6, 8, 1, 3, 5, 7, 9, 12],\n",
        "    [11, 12, 13, 14, 15, 16, 17, 1, 3, 5]\n",
        "]\n",
        "\n",
        "relevant_items_list = [\n",
        "    [2, 3, 5, 7, 11, 13, 15, 17],\n",
        "    [1, 4, 6, 8, 9, 11, 14, 16],\n",
        "    [1, 3, 5, 7, 9, 11, 12, 13, 15, 17]\n",
        "]\n",
        "\n",
        "popular_items = [1, 2, 3, 4, 5, 6, 7, 8, 9]\n",
        "\n",
        "serendipity_value = serendipity(recommended_items_list, relevant_items_list, popular_items)\n",
        "print(f\"Serendipity: {serendipity_value:.2f}\")\n"
      ]
    }
  ],
  "metadata": {
    "colab": {
      "provenance": []
    },
    "kernelspec": {
      "display_name": "Python 3",
      "name": "python3"
    },
    "language_info": {
      "name": "python"
    }
  },
  "nbformat": 4,
  "nbformat_minor": 0
}
